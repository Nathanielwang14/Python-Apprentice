{
 "cells": [
  {
   "cell_type": "code",
   "execution_count": 6,
   "metadata": {},
   "outputs": [
    {
     "name": "stdout",
     "output_type": "stream",
     "text": [
      "Move 12 units in direction 50 degrees and color red\n",
      "Move 24 units in direction 70 degrees and color blue\n",
      "Move 36 units in direction 90 degrees and color green\n",
      "Move 48 units in direction 110 degrees and color yellow\n",
      "Move 60 units in direction 130 degrees and color orange\n"
     ]
    }
   ],
   "source": [
    "\"\"\"\n",
    "Programmable turtle graphics\n",
    "\n",
    "Use what you've learned about lists, loop, cycle, slice and zip to draw a pattern\n",
    "\n",
    "\"\"\"\n",
    "import turtle                           # Tell Python we want to work with the turtle\n",
    "turtle.setup (width=600, height=600) \n",
    "\n",
    "t = turtle.Turtle()  \n",
    "\n",
    "colors = (\"red\", \"blue\", \"green\", \"yellow\", \"orange\")\n",
    "\n",
    "directions = [ # Create a list of directions and angles\n",
    "    ( 50, 12 ),\n",
    "    ( 70, 24 ),\n",
    "    ( 90, 36 ),\n",
    "    ( 110, 48 ),\n",
    "    ( 130, 60 ),   \n",
    "]\n",
    "\n",
    "# Zip the colors and directions together, then unpack them. THere is a good example of this\n",
    "# in 10_More_iterables.ipynb in the discussion of zip()\n",
    "\n",
    "for color, (angle, distance) in zip(colors, directions):\n",
    "    print(f\"Move {distance} units in direction {angle} degrees and color {color}\")\n",
    "    t.color(color)\n",
    "    t.forward( distance )\n",
    "    t.left( angle )\n",
    "\n",
    "\n",
    "# Don't forget the special way to end a turtle program..\n"
   ]
  }
 ],
 "metadata": {
  "kernelspec": {
   "display_name": "Python 3",
   "language": "python",
   "name": "python3"
  },
  "language_info": {
   "codemirror_mode": {
    "name": "ipython",
    "version": 3
   },
   "file_extension": ".py",
   "mimetype": "text/x-python",
   "name": "python",
   "nbconvert_exporter": "python",
   "pygments_lexer": "ipython3",
   "version": "3.12.4"
  }
 },
 "nbformat": 4,
 "nbformat_minor": 2
}
